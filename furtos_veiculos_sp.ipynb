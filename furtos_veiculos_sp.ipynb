{
  "nbformat": 4,
  "nbformat_minor": 0,
  "metadata": {
    "colab": {
      "provenance": [],
      "include_colab_link": true
    },
    "kernelspec": {
      "name": "python3",
      "display_name": "Python 3"
    },
    "language_info": {
      "name": "python"
    }
  },
  "cells": [
    {
      "cell_type": "markdown",
      "metadata": {
        "id": "view-in-github",
        "colab_type": "text"
      },
      "source": [
        "<a href=\"https://colab.research.google.com/github/nerson/bigdata_dissertacao_UFC/blob/main/furtos_veiculos_sp.ipynb\" target=\"_parent\"><img src=\"https://colab.research.google.com/assets/colab-badge.svg\" alt=\"Open In Colab\"/></a>"
      ]
    },
    {
      "cell_type": "markdown",
      "source": [
        "\n",
        "__Instalando as bibliotecas.__"
      ],
      "metadata": {
        "id": "0WeGraLE4SCV"
      }
    },
    {
      "cell_type": "code",
      "execution_count": null,
      "metadata": {
        "id": "zpye8wO65MLz"
      },
      "outputs": [],
      "source": [
        "!pip install panda\n",
        "!pip install numpy\n",
        "!pip install geopandas\n",
        "!pip install matplotlib\n",
        "!pip install folium\n",
        "!pip install shapely"
      ]
    },
    {
      "cell_type": "markdown",
      "source": [
        "__Como importar as bibliotecas.__"
      ],
      "metadata": {
        "id": "u2RYDDa2FG03"
      }
    },
    {
      "cell_type": "code",
      "source": [
        "import geopandas as gpd\n",
        "import matplotlib.pyplot as plt\n",
        "import pandas as pd\n",
        "import numpy as np\n",
        "import folium\n",
        "from shapely.geometry import Point, LineString, Polygon\n",
        "from folium.plugins import FastMarkerCluster\n",
        "from folium.plugins import HeatMap"
      ],
      "metadata": {
        "id": "n5_3G5VYFEXy"
      },
      "execution_count": null,
      "outputs": []
    },
    {
      "cell_type": "markdown",
      "source": [
        "Baixando os dados dos municípios e da microrregião\n",
        "do estado de São Paulo pelo site do IBGE.\n",
        "\n",
        "https://www.ibge.gov.br/geociencias/organizacao-do-territorio/malhas-territoriais/15774-malhas.html"
      ],
      "metadata": {
        "id": "8KdhmspNqyQJ"
      }
    },
    {
      "cell_type": "code",
      "source": [
        "mapas_municipios_sp = gpd.read_file('dados/SP_Municipios_2022.shp')"
      ],
      "metadata": {
        "id": "liM7Ny7QF56b"
      },
      "execution_count": null,
      "outputs": []
    },
    {
      "cell_type": "markdown",
      "source": [
        "__Lendo os dados baixados.__"
      ],
      "metadata": {
        "id": "iXSEtQ3uGaoa"
      }
    },
    {
      "cell_type": "code",
      "source": [
        "mapas_municipios_sp.head()"
      ],
      "metadata": {
        "id": "lndGpG9pGcIQ"
      },
      "execution_count": null,
      "outputs": []
    },
    {
      "cell_type": "markdown",
      "source": [
        "__Selecionando apenas a linha com informações do município de Morro Agudo.__"
      ],
      "metadata": {
        "id": "R1sSS9alrerI"
      }
    },
    {
      "cell_type": "code",
      "source": [
        "mapas_municipios_sp[mapas_municipios_sp['NM_MUN'] == 'Morro Agudo']"
      ],
      "metadata": {
        "id": "t36aqX5vGovy"
      },
      "execution_count": null,
      "outputs": []
    },
    {
      "cell_type": "markdown",
      "source": [
        "__Plotando o mapa do estado de São Paulo com seus municípios.__"
      ],
      "metadata": {
        "id": "Mzp5fbgrG-nj"
      }
    },
    {
      "cell_type": "code",
      "source": [
        "mapas_municipios_sp.plot(figsize=(12,10), facecolor='white', edgecolor='black')\n",
        "\n",
        "plt.show()"
      ],
      "metadata": {
        "id": "UOwub0VhG_Sz"
      },
      "execution_count": null,
      "outputs": []
    },
    {
      "cell_type": "markdown",
      "source": [
        "__Criando um dataframe com informações do município de Morro Agudo.__"
      ],
      "metadata": {
        "id": "P0oKFApqHHqy"
      }
    },
    {
      "cell_type": "code",
      "source": [
        "mapas_municipio_morroagudo = mapas_municipios_sp[mapas_municipios_sp['NM_MUN'] == 'Morro Agudo']"
      ],
      "metadata": {
        "id": "YagKDeYiHIIr"
      },
      "execution_count": null,
      "outputs": []
    },
    {
      "cell_type": "code",
      "source": [
        "mapas_municipio_morroagudo.plot(figsize=(6,8), facecolor='white', edgecolor='black')\n",
        "\n",
        "plt.show()"
      ],
      "metadata": {
        "id": "8ZwP6mv_HyGU"
      },
      "execution_count": null,
      "outputs": []
    },
    {
      "cell_type": "code",
      "source": [
        "mapas_municipio_morroagudo"
      ],
      "metadata": {
        "id": "_p1inIOMJOWY"
      },
      "execution_count": null,
      "outputs": []
    },
    {
      "cell_type": "markdown",
      "source": [
        "__Gravando os dados do município de Morro Agudo em um arquivo.__"
      ],
      "metadata": {
        "id": "p0GO2lefH7sc"
      }
    },
    {
      "cell_type": "code",
      "source": [
        "mapas_municipio_morroagudo.to_file('dados/municipio_morro_agudo.json', driver='GeoJSON')"
      ],
      "metadata": {
        "id": "pBAkBukzH8m0"
      },
      "execution_count": null,
      "outputs": []
    },
    {
      "cell_type": "markdown",
      "source": [
        "__Criando um dataframe com informações dos furtos de veículos.__\n",
        "\n",
        "Download dos dados: https://www.ssp.sp.gov.br/transparenciassp/"
      ],
      "metadata": {
        "id": "VYosa7uWJUmp"
      }
    },
    {
      "cell_type": "code",
      "source": [
        "df_01 = pd.read_excel('dados/DadosBO_2022_12_furtos_veiculos.xlsx')\n",
        "df_02 = pd.read_excel('dados/DadosBO_2023_1_furtos_veiculos.xlsx')"
      ],
      "metadata": {
        "id": "Vr9_2xqRJU-o"
      },
      "execution_count": null,
      "outputs": []
    },
    {
      "cell_type": "code",
      "source": [
        "df_furto_veiculos_bimestral_sp = pd.concat([df_01, df_02])"
      ],
      "metadata": {
        "id": "Z7dsPp5bKqzZ"
      },
      "execution_count": null,
      "outputs": []
    },
    {
      "cell_type": "code",
      "source": [
        "df_furto_veiculos_bimestral_sp"
      ],
      "metadata": {
        "id": "tFej8-4LK37Q"
      },
      "execution_count": null,
      "outputs": []
    },
    {
      "cell_type": "markdown",
      "source": [
        "__Filtrando os dados de roubos para o município de Morro Agudo.__"
      ],
      "metadata": {
        "id": "FlvwqNOVLLsR"
      }
    },
    {
      "cell_type": "code",
      "source": [
        "df_furto_veiculos_bimestral_morro_agudo = df_furto_veiculos_bimestral_sp[df_furto_veiculos_bimestral_sp['CIDADE'] == 'MORRO AGUDO']"
      ],
      "metadata": {
        "id": "emmQrW9suc3L"
      },
      "execution_count": null,
      "outputs": []
    },
    {
      "cell_type": "code",
      "source": [
        "df_furto_veiculos_bimestral_morro_agudo['CIDADE']"
      ],
      "metadata": {
        "id": "Frl2Cm92u3mQ"
      },
      "execution_count": null,
      "outputs": []
    },
    {
      "cell_type": "markdown",
      "source": [
        "__Verificando a quantidade de dados nulos por coluna.__"
      ],
      "metadata": {
        "id": "Se_s6YswvsUW"
      }
    },
    {
      "cell_type": "code",
      "source": [
        "df_furto_veiculos_bimestral_morro_agudo[['LATITUDE', 'LONGITUDE']]"
      ],
      "metadata": {
        "id": "055Sf-DvLM0o"
      },
      "execution_count": null,
      "outputs": []
    },
    {
      "cell_type": "code",
      "source": [
        "df_antes = df_furto_veiculos_bimestral_morro_agudo.shape[0]\n",
        "df_atual = df_furto_veiculos_bimestral_morro_agudo.dropna(subset=['LATITUDE', 'LONGITUDE']).shape[0]\n",
        "print(\"{} linhas seriam removidas, o equivalente a {}% do dataframe\".format(df_antes-df_atual, 100*(df_antes-df_atual)/df_antes))"
      ],
      "metadata": {
        "id": "tNg2KIrULsTR"
      },
      "execution_count": null,
      "outputs": []
    },
    {
      "cell_type": "markdown",
      "source": [
        "__Dependendo do percentual podemos deletar as linhas com latitude e longitude nulas.__\n",
        "\n",
        "\n",
        "__Ou preencher os campos númericos nulos com as médias de cada coluna.__"
      ],
      "metadata": {
        "id": "wi7ge-M8MKRB"
      }
    },
    {
      "cell_type": "code",
      "source": [
        "# df_furto_veiculos_bimestral_sp = df_furto_veiculos_bimestral_sp.dropna(subset=['LATITUDE', 'LONGITUDE'])\n",
        "\n",
        "df_furto_veiculos_bimestral_morro_agudo = df_furto_veiculos_bimestral_morro_agudo.fillna(df_furto_veiculos_bimestral_morro_agudo.mean(numeric_only=True))"
      ],
      "metadata": {
        "id": "_vzNAMTmMKoZ"
      },
      "execution_count": null,
      "outputs": []
    },
    {
      "cell_type": "code",
      "source": [
        "df_furto_veiculos_bimestral_morro_agudo.isnull().sum()"
      ],
      "metadata": {
        "id": "4Wppg9PMMdJU"
      },
      "execution_count": null,
      "outputs": []
    },
    {
      "cell_type": "markdown",
      "source": [
        "__Criando uma coluna geometry__"
      ],
      "metadata": {
        "id": "jRb1tBFnMxKM"
      }
    },
    {
      "cell_type": "code",
      "source": [
        "df_furto_veiculos_bimestral_morro_agudo['geometry'] = None\n",
        "\n",
        "for index, row in df_furto_veiculos_bimestral_morro_agudo.iterrows():\n",
        "    df_furto_veiculos_bimestral_morro_agudo.loc[index, 'geometry'] = Point(row.LONGITUDE, row.LATITUDE)"
      ],
      "metadata": {
        "id": "qJvkFwmlMxk0"
      },
      "execution_count": null,
      "outputs": []
    },
    {
      "cell_type": "code",
      "source": [
        "df_furto_veiculos_bimestral_morro_agudo"
      ],
      "metadata": {
        "id": "GnkdEj2rM8YV"
      },
      "execution_count": null,
      "outputs": []
    },
    {
      "cell_type": "markdown",
      "source": [
        "__Criando o GeoDataFrame.__"
      ],
      "metadata": {
        "id": "qXllBzbCNIPO"
      }
    },
    {
      "cell_type": "code",
      "source": [
        "mapas_furto_veiculos_bimestral_morro_agudo = gpd.GeoDataFrame(df_furto_veiculos_bimestral_morro_agudo, geometry='geometry')"
      ],
      "metadata": {
        "id": "_DqCmTo5NIr9"
      },
      "execution_count": null,
      "outputs": []
    },
    {
      "cell_type": "code",
      "source": [
        "mapas_furto_veiculos_bimestral_morro_agudo"
      ],
      "metadata": {
        "id": "UYizQDzqNaN0"
      },
      "execution_count": null,
      "outputs": []
    },
    {
      "cell_type": "markdown",
      "source": [
        "__Plotandos os mapas com os dados de furtos de veículos e o mapa do município de Morro Agudo.__"
      ],
      "metadata": {
        "id": "7IxT_n8FN9pk"
      }
    },
    {
      "cell_type": "code",
      "source": [
        "mapas_furto_veiculos_bimestral_morro_agudo.plot()"
      ],
      "metadata": {
        "id": "ZIQ3NekYN-H1"
      },
      "execution_count": null,
      "outputs": []
    },
    {
      "cell_type": "code",
      "source": [
        "mapas_municipio_morroagudo.plot()"
      ],
      "metadata": {
        "id": "pBxNI_ouOi6m"
      },
      "execution_count": null,
      "outputs": []
    },
    {
      "cell_type": "code",
      "source": [
        "fig, ax = plt.subplots(figsize=(15,15))\n",
        "\n",
        "mapas_furto_veiculos_bimestral_morro_agudo.plot(ax=ax)\n",
        "\n",
        "mapas_municipio_morroagudo.plot(ax=ax, facecolor='None', edgecolor='black')"
      ],
      "metadata": {
        "id": "B-g52-y8OuMM"
      },
      "execution_count": null,
      "outputs": []
    },
    {
      "cell_type": "markdown",
      "source": [
        "__Criar um polígono do município de Morro Agudo__"
      ],
      "metadata": {
        "id": "3soEN6lcO7An"
      }
    },
    {
      "cell_type": "code",
      "source": [
        "# Criar um polígono do município de Aparecida\n",
        "\n",
        "poligono_morro_agudo = mapas_municipio_morroagudo.iloc[0].geometry"
      ],
      "metadata": {
        "id": "vSKWygD3O7fd"
      },
      "execution_count": null,
      "outputs": []
    },
    {
      "cell_type": "code",
      "source": [
        "poligono_morro_agudo"
      ],
      "metadata": {
        "id": "8M0X35MuPDe0"
      },
      "execution_count": null,
      "outputs": []
    },
    {
      "cell_type": "markdown",
      "source": [
        "__Fazendo a interseção dos mapas de furtos de veículos com o polígono do município de Morro Agudo.__"
      ],
      "metadata": {
        "id": "2740j-cPPIwN"
      }
    },
    {
      "cell_type": "code",
      "source": [
        "mapas_furto_veiculos_bimestral_morro_agudo = mapas_furto_veiculos_bimestral_morro_agudo[mapas_furto_veiculos_bimestral_morro_agudo.intersects(poligono_morro_agudo)]"
      ],
      "metadata": {
        "id": "j_FxR5-PPJEN"
      },
      "execution_count": null,
      "outputs": []
    },
    {
      "cell_type": "code",
      "source": [
        "fig, ax = plt.subplots(figsize=(10,10))\n",
        "\n",
        "mapas_furto_veiculos_bimestral_morro_agudo.plot(ax=ax)\n",
        "\n",
        "mapas_municipio_morroagudo.plot(ax=ax, facecolor='None', edgecolor='black')"
      ],
      "metadata": {
        "id": "4w_Pd5o_PsZ2"
      },
      "execution_count": null,
      "outputs": []
    },
    {
      "cell_type": "code",
      "source": [
        "mapas_furto_veiculos_bimestral_morro_agudo"
      ],
      "metadata": {
        "id": "Fv8nIAUjUUgG"
      },
      "execution_count": null,
      "outputs": []
    },
    {
      "cell_type": "code",
      "source": [
        "mapas_furto_veiculos_bimestral_morro_agudo_temp = mapas_furto_veiculos_bimestral_morro_agudo[['CIDADE','LATITUDE','LONGITUDE', 'geometry']]"
      ],
      "metadata": {
        "id": "BWefykF9WgJv"
      },
      "execution_count": null,
      "outputs": []
    },
    {
      "cell_type": "code",
      "source": [
        "mapas_furto_veiculos_bimestral_morro_agudo_temp.to_file('dados/furto_veiculos_bimestral_morro_agudo.json', driver='GeoJSON')"
      ],
      "metadata": {
        "id": "7wPhDOCpWHuw"
      },
      "execution_count": null,
      "outputs": []
    },
    {
      "cell_type": "code",
      "source": [
        "mapas_furto_veiculos_bimestral_morro_agudo_temp"
      ],
      "metadata": {
        "id": "6MpsusWp0nUn"
      },
      "execution_count": null,
      "outputs": []
    },
    {
      "cell_type": "markdown",
      "source": [
        "__Criando os mapas do dados do município de Morro Agudo.__"
      ],
      "metadata": {
        "id": "j3FP5vfPXIOp"
      }
    },
    {
      "cell_type": "code",
      "source": [
        "# Carregando dados do mapa\n",
        "\n",
        "gdf_geometria_morro_agudo = gpd.read_file('dados/municipio_morro_agudo.json', driver='GeoJSON')"
      ],
      "metadata": {
        "id": "JtpT8O3HXIrR"
      },
      "execution_count": null,
      "outputs": []
    },
    {
      "cell_type": "code",
      "source": [
        "# Carregando dados de furto\n",
        "\n",
        "gdf_furto_veiculos_bimestre_morro_agudo = gpd.read_file('dados/furto_veiculos_bimestral_morro_agudo.json', driver='GeoJSON')"
      ],
      "metadata": {
        "id": "oatbzvqFXttj"
      },
      "execution_count": null,
      "outputs": []
    },
    {
      "cell_type": "code",
      "source": [
        "media_latitude = gdf_furto_veiculos_bimestre_morro_agudo['LATITUDE'].mean()\n",
        "\n",
        "media_longitude = gdf_furto_veiculos_bimestre_morro_agudo['LONGITUDE'].mean()\n",
        "\n",
        "fmap = folium.Map(location=[media_latitude, media_longitude], tiles='cartodbpositron')\n",
        "\n",
        "limites = folium.features.GeoJson(gdf_geometria_morro_agudo,\n",
        "                                 style_function=lambda feature:{\n",
        "                                     'color':'black',\n",
        "                                     'weight':2,\n",
        "                                     'fillOpacity':0.0\n",
        "                                 })\n",
        "fmap.add_child(limites)\n",
        "\n",
        "mc = FastMarkerCluster(gdf_furto_veiculos_bimestre_morro_agudo[['LATITUDE', 'LONGITUDE']])\n",
        "\n",
        "fmap.add_child(mc)\n",
        "\n",
        "fmap"
      ],
      "metadata": {
        "id": "Cy68f4ERZS7o"
      },
      "execution_count": null,
      "outputs": []
    },
    {
      "cell_type": "markdown",
      "source": [
        "__Salvando o mapa em um arquivo html.__"
      ],
      "metadata": {
        "id": "yPwIVckrZkqx"
      }
    },
    {
      "cell_type": "code",
      "source": [
        "fmap.save('dados/mapa_furto_veiculos_morro_agudo.html')"
      ],
      "metadata": {
        "id": "c2xQL5zOZlFq"
      },
      "execution_count": null,
      "outputs": []
    },
    {
      "cell_type": "markdown",
      "source": [
        "#__Fazendo a análise dos furtos das Microrregiões de São Paulo.__\n",
        "\n",
        "__Será realizado um procedimento semelhante, mas agora iremos analisar a quantidade de furtos de veículos nas Microrregiões do estado de São Paulo.__"
      ],
      "metadata": {
        "id": "bFQmqvOsa3kh"
      }
    },
    {
      "cell_type": "code",
      "source": [
        "mapas_micro_sp = gpd.read_file('dados_micro/SP_Microrregioes_2022.shp')"
      ],
      "metadata": {
        "id": "s2IsW1hd7QwY"
      },
      "execution_count": null,
      "outputs": []
    },
    {
      "cell_type": "code",
      "source": [
        "mapas_micro_sp"
      ],
      "metadata": {
        "id": "IvXjASLi76ua"
      },
      "execution_count": null,
      "outputs": []
    },
    {
      "cell_type": "code",
      "source": [
        "mapas_micro_sp.plot(figsize=(6,8), facecolor='white', edgecolor='black')\n",
        "\n",
        "plt.show()"
      ],
      "metadata": {
        "id": "-m31_RIXFKuJ"
      },
      "execution_count": null,
      "outputs": []
    },
    {
      "cell_type": "code",
      "source": [
        "mapas_micro_sp.to_file('dados_micro/micro_sp.json', driver='GeoJSON')"
      ],
      "metadata": {
        "id": "Dm7JFMtM9HNZ"
      },
      "execution_count": null,
      "outputs": []
    },
    {
      "cell_type": "code",
      "source": [
        "df_01 = pd.read_excel('dados/DadosBO_2022_12_furtos_veiculos.xlsx')\n",
        "df_02 = pd.read_excel('dados/DadosBO_2023_1_furtos_veiculos.xlsx')"
      ],
      "metadata": {
        "id": "58sl3STuXdLC"
      },
      "execution_count": null,
      "outputs": []
    },
    {
      "cell_type": "code",
      "source": [
        "df_furto_veiculos_bimestral_sp = pd.concat([df_01, df_02])"
      ],
      "metadata": {
        "id": "B2iRbD-IXkqZ"
      },
      "execution_count": null,
      "outputs": []
    },
    {
      "cell_type": "code",
      "source": [
        "df_furto_veiculos_bimestral_sp"
      ],
      "metadata": {
        "id": "KhCVNgEx-CEh"
      },
      "execution_count": null,
      "outputs": []
    },
    {
      "cell_type": "code",
      "source": [
        "df_furto_veiculos_micro_sp = df_furto_veiculos_bimestral_sp.fillna(df_furto_veiculos_bimestral_sp.mean(numeric_only=True))"
      ],
      "metadata": {
        "id": "pnn5VCn--FUX"
      },
      "execution_count": null,
      "outputs": []
    },
    {
      "cell_type": "code",
      "source": [
        "df_furto_veiculos_micro_sp['geometry'] = None\n",
        "\n",
        "for index, row in df_furto_veiculos_micro_sp.iterrows():\n",
        "    df_furto_veiculos_micro_sp.loc[index, 'geometry'] = Point(row.LONGITUDE, row.LATITUDE)"
      ],
      "metadata": {
        "id": "fLJxigl4-YlZ"
      },
      "execution_count": null,
      "outputs": []
    },
    {
      "cell_type": "code",
      "source": [
        "df_furto_veiculos_micro_sp"
      ],
      "metadata": {
        "id": "yvc-g0vb-chy"
      },
      "execution_count": null,
      "outputs": []
    },
    {
      "cell_type": "code",
      "source": [
        "mapas_furto_veiculos_micro_sp = gpd.GeoDataFrame(df_furto_veiculos_micro_sp, geometry='geometry')"
      ],
      "metadata": {
        "id": "OnU72UEk_H37"
      },
      "execution_count": null,
      "outputs": []
    },
    {
      "cell_type": "code",
      "source": [
        "mapas_furto_veiculos_micro_sp"
      ],
      "metadata": {
        "id": "KsEoJN7D_LXr"
      },
      "execution_count": null,
      "outputs": []
    },
    {
      "cell_type": "code",
      "source": [
        "mapas_micro_sp"
      ],
      "metadata": {
        "id": "O4t21jTGG7fQ"
      },
      "execution_count": null,
      "outputs": []
    },
    {
      "cell_type": "code",
      "source": [
        "mapas_furto_veiculos_micro_sp.plot()"
      ],
      "metadata": {
        "id": "cAUJ2ALmNL5Y"
      },
      "execution_count": null,
      "outputs": []
    },
    {
      "cell_type": "code",
      "source": [
        "mapas_micro_sp.plot()"
      ],
      "metadata": {
        "id": "t8xW7M2hNSc6"
      },
      "execution_count": null,
      "outputs": []
    },
    {
      "cell_type": "code",
      "source": [
        "fig, ax = plt.subplots(figsize=(15,15))\n",
        "\n",
        "mapas_furto_veiculos_micro_sp.plot(ax=ax)\n",
        "\n",
        "mapas_micro_sp.plot(ax=ax, facecolor='None', edgecolor='black')"
      ],
      "metadata": {
        "id": "-aTIpu9INbHa"
      },
      "execution_count": null,
      "outputs": []
    },
    {
      "cell_type": "code",
      "source": [
        "#poligono_micro_sp = mapas_micro_sp.loc[4].geometry\n",
        "\n",
        "#poligono_micro_sp_temp = mapas_micro_sp.geometry\n",
        "\n",
        "for i in mapas_micro_sp.index:\n",
        "  poligono_micro_sp_temp = poligono_micro_sp_temp.union(mapas_micro_sp.iloc[i].geometry)\n",
        "\n"
      ],
      "metadata": {
        "id": "zw6vg_cNITlB"
      },
      "execution_count": null,
      "outputs": []
    },
    {
      "cell_type": "code",
      "source": [
        "poligono_micro_sp_temp"
      ],
      "metadata": {
        "id": "S9SXBPFwIXBw"
      },
      "execution_count": null,
      "outputs": []
    },
    {
      "cell_type": "code",
      "source": [
        "mapas_furto_veiculos_micro_sp_temp = mapas_furto_veiculos_micro_sp[mapas_furto_veiculos_micro_sp.intersects(poligono_micro_sp_temp)]"
      ],
      "metadata": {
        "id": "_X4GKJxHAM2s"
      },
      "execution_count": null,
      "outputs": []
    },
    {
      "cell_type": "code",
      "source": [
        "fig, ax = plt.subplots(figsize=(10,10))\n",
        "\n",
        "mapas_furto_veiculos_micro_sp.plot(ax=ax)\n",
        "\n",
        "mapas_micro_sp.plot(ax=ax, facecolor='None', edgecolor='black')"
      ],
      "metadata": {
        "id": "TdL8ou1qAOUc"
      },
      "execution_count": null,
      "outputs": []
    },
    {
      "cell_type": "code",
      "source": [
        "\n",
        "mapas_furto_veiculos_micro_sp_temp = mapas_furto_veiculos_micro_sp[['CIDADE','LATITUDE','LONGITUDE', 'geometry']]"
      ],
      "metadata": {
        "id": "UJEhkihtA8oW"
      },
      "execution_count": null,
      "outputs": []
    },
    {
      "cell_type": "code",
      "source": [
        "mapas_furto_veiculos_micro_sp_temp.to_file('dados_micro/furto_veiculos_micro_sp.json', driver='GeoJSON')"
      ],
      "metadata": {
        "id": "CC5bviyYBAGu"
      },
      "execution_count": null,
      "outputs": []
    },
    {
      "cell_type": "code",
      "source": [
        "mapas_furto_veiculos_micro_sp_temp"
      ],
      "metadata": {
        "id": "ull7udlXBD-W"
      },
      "execution_count": null,
      "outputs": []
    },
    {
      "cell_type": "code",
      "source": [
        "# Carregando dados do mapa\n",
        "\n",
        "gdf_geometria_micro_sp = gpd.read_file('dados_micro/micro_sp.json', driver='GeoJSON')"
      ],
      "metadata": {
        "id": "sQpSrzjBBZZ-"
      },
      "execution_count": null,
      "outputs": []
    },
    {
      "cell_type": "code",
      "source": [
        "# Carregando dados de furto\n",
        "\n",
        "gdf_furto_veiculos_micro_sp = gpd.read_file('dados_micro/furto_veiculos_micro_sp.json', driver='GeoJSON')"
      ],
      "metadata": {
        "id": "0oThge5xBlzM"
      },
      "execution_count": null,
      "outputs": []
    },
    {
      "cell_type": "code",
      "source": [
        "media_latitude = gdf_furto_veiculos_micro_sp['LATITUDE'].mean()\n",
        "\n",
        "media_longitude = gdf_furto_veiculos_micro_sp['LONGITUDE'].mean()\n",
        "\n",
        "fmap = folium.Map(location=[media_latitude, media_longitude], tiles='cartodbpositron')\n",
        "\n",
        "limites = folium.features.GeoJson(gdf_geometria_micro_sp,\n",
        "                                 style_function=lambda feature:{\n",
        "                                     'color':'black',\n",
        "                                     'weight':2,\n",
        "                                     'fillOpacity':0.0\n",
        "                                 })\n",
        "fmap.add_child(limites)\n",
        "\n",
        "mc = FastMarkerCluster(gdf_furto_veiculos_micro_sp[['LATITUDE', 'LONGITUDE']])\n",
        "\n",
        "fmap.add_child(mc)\n",
        "\n",
        "fmap"
      ],
      "metadata": {
        "id": "j-Uqj2XDB7bV"
      },
      "execution_count": null,
      "outputs": []
    },
    {
      "cell_type": "code",
      "source": [
        "fmap.save(\"dados_micro/furtos_veiculos_microrregioes_sp.html\")"
      ],
      "metadata": {
        "id": "vgWOl4NMgCqF"
      },
      "execution_count": null,
      "outputs": []
    },
    {
      "cell_type": "code",
      "source": [
        "for index, municipio in gdf_geometria_micro_sp.iterrows():\n",
        "    qtd_roubos = len(gdf_furto_veiculos_micro_sp[gdf_furto_veiculos_micro_sp.intersects(municipio.geometry)])\n",
        "    gdf_geometria_micro_sp.loc[index, 'qtd_roubos'] = qtd_roubos"
      ],
      "metadata": {
        "id": "tKOu3mf-a4Uq"
      },
      "execution_count": null,
      "outputs": []
    },
    {
      "cell_type": "code",
      "source": [
        "gdf_geometria_micro_sp"
      ],
      "metadata": {
        "id": "-StLdY3SbDex"
      },
      "execution_count": null,
      "outputs": []
    },
    {
      "cell_type": "code",
      "source": [
        "fmap = folium.Map(location=[media_latitude, media_longitude], tiles='cartodbpositron')\n",
        "\n",
        "for _, municipios in  gdf_geometria_micro_sp.iterrows():\n",
        "\n",
        "    municipios_geojson = folium.features.GeoJson(municipios.geometry,\n",
        "                                 style_function=lambda feature:{\n",
        "                                     'color':'green',\n",
        "                                     'weight':2,\n",
        "                                     'fillOpacity':0.1\n",
        "                                 })\n",
        "    popup = folium.Popup(\"\"\"\n",
        "                            Microrregião: {} <br>\n",
        "                            Furtos de Veículos Dez/22 e Jan/23: {}\n",
        "                            \"\"\".format(municipios.NM_MICRO, str(int(municipios.qtd_roubos))), max_width=300)\n",
        "\n",
        "    popup.add_to(municipios_geojson)\n",
        "\n",
        "    municipios_geojson.add_to(fmap)\n",
        "\n",
        "fmap"
      ],
      "metadata": {
        "id": "lABAOU-dgjOj"
      },
      "execution_count": null,
      "outputs": []
    },
    {
      "cell_type": "code",
      "source": [
        "fmap.save(\"dados_micro/quantidade_roubos _microrregioes_sp.html\")"
      ],
      "metadata": {
        "id": "FWb1EuRcf30f"
      },
      "execution_count": null,
      "outputs": []
    }
  ]
}